{
 "cells": [
  {
   "cell_type": "markdown",
   "id": "3e516a91-19e9-4e7a-a499-2cd4899d5018",
   "metadata": {
    "deletable": false,
    "editable": false
   },
   "source": [
    "### **2차원 리스트** ###\n",
    "\n",
    "리스트는 여러 차원으로 데이터를 저장해서 데이터를 효과적으로 표현할 수 있습니다. \n",
    "\n",
    "2차원 리스트는 리스트의 요소로 리스트를 저장합니다. \n"
   ]
  },
  {
   "cell_type": "markdown",
   "id": "64cf779a-f557-430e-8d75-b71d62177539",
   "metadata": {
    "deletable": false,
    "editable": false
   },
   "source": [
    "#### **예제 11-1 : 2차원 리스트 생성**\n"
   ]
  },
  {
   "cell_type": "code",
   "execution_count": null,
   "id": "207bed8e-4c2f-4263-949e-7622bb7c4509",
   "metadata": {
    "codle/previous_execution": {
     "code": "#예제 11 : 2차원 리스트 생성\n\nplayer1 = ['찬민', '한주', '담도', '성민', '용운', '레이']    # 1차원 리스트\nplayer2 = [['찬민', '한주', '담도'], ['성민', '용운', '레이']]  # 2차원 리스트\n\nprint(player1)\nprint(player2)\n",
     "id": "5117055"
    }
   },
   "outputs": [],
   "source": [
    "#예제 11-1 : 2차원 리스트 생성\n",
    "\n",
    "player1 = ['찬민', '한주', '담도', '성민', '용운', '레이']    # 1차원 리스트\n",
    "player2 = [['찬민', '한주', '담도'], ['성민', '용운', '레이']]  # 2차원 리스트\n",
    "\n",
    "print(player1)\n",
    "print(player2)\n"
   ]
  },
  {
   "cell_type": "markdown",
   "id": "9b562ecc-c55b-48f3-8ce1-2a5915cdb86e",
   "metadata": {
    "deletable": false,
    "editable": false
   },
   "source": [
    "#### 예제 11-1 해설\n",
    "> 리스트의 요소로 리스트를 저장하는 방식으로 2차원 리스트를 만들 수 있습니다. \n",
    "> "
   ]
  },
  {
   "cell_type": "markdown",
   "id": "d520c061-8c14-480b-b131-4a1ee846c1d6",
   "metadata": {
    "deletable": false,
    "editable": false
   },
   "source": [
    "#### **예제 11-2 : 2차원 리스트의 요소 호출**\n"
   ]
  },
  {
   "cell_type": "code",
   "execution_count": null,
   "id": "b8d41925-d20d-4804-bcbf-52a7d63d514f",
   "metadata": {
    "codle/previous_execution": {
     "code": "#예제 11-2 : 2차원 리스트 호출\n\nplayer2 = [['찬민', '한주', '담도'], ['성민', '용운', '레이']]  # 2차원 리스트\n\nprint('red팀 : ', player2[0])\nprint('blue팀 : ', player2[1])\n\nprint('red팀 선수 :', player2[0][0])\nprint('red팀 선수 :', player2[0][1])\nprint('red팀 선수 :', player2[0][2])\n\nprint('blue팀 선수 :', player2[1][0])\nprint('blue팀 선수 :', player2[1][1])\nprint('blue팀 선수 :', player2[1][2])\n",
     "id": "5118441"
    }
   },
   "outputs": [],
   "source": [
    "#예제 11-2 : 2차원 리스트 호출\n",
    "\n",
    "player2 = [['찬민', '한주', '담도'], ['성민', '용운', '레이']]  # 2차원 리스트\n",
    "\n",
    "print('red팀 : ', player2[0])\n",
    "print('blue팀 : ', player2[1])\n",
    "\n",
    "print('red팀 선수 :', player2[0][0])\n",
    "print('red팀 선수 :', player2[0][1])\n",
    "print('red팀 선수 :', player2[0][2])\n",
    "\n",
    "print('blue팀 선수 :', player2[1][0])\n",
    "print('blue팀 선수 :', player2[1][1])\n",
    "print('blue팀 선수 :', player2[1][2])\n"
   ]
  },
  {
   "cell_type": "markdown",
   "id": "0fa84021-b801-462e-abb6-da0240992a44",
   "metadata": {
    "deletable": false,
    "editable": false
   },
   "source": [
    "#### 예제 11-2 해설\n",
    "\n",
    "```\n",
    "리스트[첫번째 인덱스][두번째 인덱스]\n",
    "```\n",
    "\n",
    "> 리스트의 첫번째 인덱스와 두번째 인덱스를 [] 대괄호에 나란히 넣어서 2차원 리스트의 요소를 호출할 수 있습니다."
   ]
  },
  {
   "cell_type": "markdown",
   "id": "9ed23367-238a-4307-bede-93526a45c408",
   "metadata": {
    "deletable": false,
    "editable": false
   },
   "source": [
    "#### **예제 11-3 : 2차원 리스트와 반복구를 함께 사용**\n"
   ]
  },
  {
   "cell_type": "code",
   "execution_count": null,
   "id": "a6019d5e-344f-47f7-989b-2a4cd3988d69",
   "metadata": {
    "codle/previous_execution": {
     "code": "#예제 11-3 : 2차원 리스트와 반복구조\n\nplayer2 = [['찬민', '한주', '담도'], ['성민', '용운', '레이']]  # 2차원 리스트\n\nfor i in player2:\n    for j in i:\n        if player.index(i)==0:\n            print('red팀 선수 :', j)\n        elif player.index(i)==1:\n            print('blue팀 선수 :', j)            ",
     "id": "5118445"
    }
   },
   "outputs": [],
   "source": [
    "#예제 11-3 : 2차원 리스트와 반복구조\n",
    "\n",
    "player2 = [['찬민', '한주', '담도'], ['성민', '용운', '레이']]  # 2차원 리스트\n",
    "\n",
    "for i in player2:\n",
    "    for j in i:\n",
    "        if player.index(i)==0:\n",
    "            print('red팀 선수 :', j)\n",
    "        elif player.index(i)==1:\n",
    "            print('blue팀 선수 :', j)            "
   ]
  },
  {
   "cell_type": "markdown",
   "id": "68f0b262-1543-4cc8-8ecc-35cc1d30fbeb",
   "metadata": {
    "deletable": false,
    "editable": false
   },
   "source": [
    "#### 예제 11-3 해설\n",
    "> 2차원 리스트도 1차원 리스트처럼 반복구조와 함께 사용할 수 있습니다.\n",
    "> \n",
    "> 중첩반복구조를 사용해서 2차원 리스트의 요소에 접근할 수 있습니다.\n",
    ">\n",
    "> 리스트의 인덱스를 알기 위해서 index 함수를 사용할 수 있습니다.\n",
    "\n",
    "```\n",
    "리스트.index(요소) : 리스트에서 요소가 갖는 인덱스를 반환합니다.\n",
    "```\n"
   ]
  }
 ],
 "metadata": {
  "kernelspec": {
   "display_name": "Python 3 (ipykernel)",
   "language": "python",
   "name": "python3"
  },
  "language_info": {
   "codemirror_mode": {
    "name": "ipython",
    "version": 3
   },
   "file_extension": ".py",
   "mimetype": "text/x-python",
   "name": "python",
   "nbconvert_exporter": "python",
   "pygments_lexer": "ipython3",
   "version": "3.10.13"
  },
  "read_only": true
 },
 "nbformat": 4,
 "nbformat_minor": 5
}
